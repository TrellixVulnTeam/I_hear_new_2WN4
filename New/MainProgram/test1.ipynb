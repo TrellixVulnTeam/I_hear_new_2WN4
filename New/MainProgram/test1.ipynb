{
 "cells": [
  {
   "cell_type": "code",
   "execution_count": 45,
   "metadata": {},
   "outputs": [],
   "source": [
    "import os\n",
    "\n",
    "oriPath = '/Users/newsogood/Documents/Workspace/2ND_Year/SARC_2021/Programming/HighLevel/New/MainProgram/storage'"
   ]
  },
  {
   "cell_type": "code",
   "execution_count": 46,
   "metadata": {},
   "outputs": [
    {
     "name": "stdout",
     "output_type": "stream",
     "text": [
      "[]\n",
      "[]\n",
      "[]\n",
      "[]\n"
     ]
    }
   ],
   "source": [
    "os.chdir(oriPath)\n",
    "os.chdir('clip')\n",
    "for i in os.listdir():\n",
    "    os.remove(i)\n",
    "print(os.listdir())\n",
    "os.chdir(oriPath)\n",
    "os.chdir('side')\n",
    "for i in os.listdir():\n",
    "    os.remove(i)\n",
    "print(os.listdir())\n",
    "os.chdir(oriPath)\n",
    "os.chdir('stick')\n",
    "for i in os.listdir():\n",
    "    os.remove(i)\n",
    "print(os.listdir())\n",
    "os.chdir(oriPath)\n",
    "os.chdir('bottom')\n",
    "for i in os.listdir():\n",
    "    os.remove(i)\n",
    "print(os.listdir())"
   ]
  },
  {
   "cell_type": "code",
   "execution_count": 36,
   "metadata": {},
   "outputs": [],
   "source": []
  },
  {
   "cell_type": "code",
   "execution_count": 37,
   "metadata": {},
   "outputs": [
    {
     "data": {
      "text/plain": [
       "[]"
      ]
     },
     "execution_count": 37,
     "metadata": {},
     "output_type": "execute_result"
    }
   ],
   "source": []
  },
  {
   "cell_type": "code",
   "execution_count": null,
   "metadata": {},
   "outputs": [],
   "source": []
  }
 ],
 "metadata": {
  "kernelspec": {
   "display_name": "Python 3.8.10 64-bit",
   "language": "python",
   "name": "python3"
  },
  "language_info": {
   "codemirror_mode": {
    "name": "ipython",
    "version": 3
   },
   "file_extension": ".py",
   "mimetype": "text/x-python",
   "name": "python",
   "nbconvert_exporter": "python",
   "pygments_lexer": "ipython3",
   "version": "3.8.10"
  },
  "orig_nbformat": 4,
  "vscode": {
   "interpreter": {
    "hash": "31f2aee4e71d21fbe5cf8b01ff0e069b9275f58929596ceb00d14d90e3e16cd6"
   }
  }
 },
 "nbformat": 4,
 "nbformat_minor": 2
}
